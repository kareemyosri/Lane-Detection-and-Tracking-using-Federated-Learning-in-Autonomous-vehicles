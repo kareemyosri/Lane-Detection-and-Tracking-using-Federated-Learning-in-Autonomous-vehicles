{
 "cells": [
  {
   "cell_type": "code",
   "execution_count": 1,
   "id": "1c8fe5dc",
   "metadata": {},
   "outputs": [],
   "source": [
    "import socket\n",
    "from threading import Thread\n",
    "import os"
   ]
  },
  {
   "cell_type": "code",
   "execution_count": null,
   "id": "087827af",
   "metadata": {},
   "outputs": [
    {
     "name": "stdout",
     "output_type": "stream",
     "text": [
      "Waiting for incoming connections...\n",
      "Got connection from %s%s ('127.0.0.1', 55141)\n",
      " New thread started for 127.0.0.1:55141\n",
      "Waiting for incoming connections...\n",
      "Got connection from %s%s ('127.0.0.1', 55165)\n",
      " New thread started for 127.0.0.1:55165\n",
      "Waiting for incoming connections...\n"
     ]
    }
   ],
   "source": [
    "#send Global model weights to Clients using API\n",
    "TCP_IP = 'localhost'\n",
    "TCP_PORT = 9005\n",
    "BUFFER_SIZE = 1024\n",
    "\n",
    "class ClientThread(Thread):\n",
    "\n",
    "    def __init__(self,ip,port,sock):\n",
    "        Thread.__init__(self)\n",
    "        self.ip = ip\n",
    "        self.port = port\n",
    "        self.sock = sock\n",
    "        print( \" New thread started for \"+ip+\":\"+str(port))\n",
    "\n",
    "    def run(self):\n",
    "        filename=r'E:\\NU\\Federated\\send_recieve/updated.h5'\n",
    "        f = open(filename,'rb')\n",
    "        while True:\n",
    "            l = f.read(BUFFER_SIZE)\n",
    "            while (l):\n",
    "                self.sock.send(l)\n",
    "                #print('Sent ',repr(l))\n",
    "                l = f.read(BUFFER_SIZE)\n",
    "            if not l:\n",
    "                f.close()\n",
    "                self.sock.close()\n",
    "                break\n",
    "\n",
    "tcpsock = socket.socket(socket.AF_INET, socket.SOCK_STREAM)\n",
    "tcpsock.setsockopt(socket.SOL_SOCKET, socket.SO_REUSEADDR, 1)\n",
    "tcpsock.bind((TCP_IP, TCP_PORT))\n",
    "threads = []\n",
    "\n",
    "while True:\n",
    "    tcpsock.listen(5)\n",
    "    print (\"Waiting for incoming connections...\")\n",
    "    (conn, (ip,port)) = tcpsock.accept()\n",
    "    print ('Got connection from %s%s', (ip ,port))\n",
    "    newthread = ClientThread(ip,port,conn)\n",
    "    newthread.start()\n",
    "    threads.append(newthread)\n"
   ]
  },
  {
   "cell_type": "code",
   "execution_count": null,
   "id": "cd89da2a",
   "metadata": {},
   "outputs": [],
   "source": []
  }
 ],
 "metadata": {
  "kernelspec": {
   "display_name": "Python 3 (ipykernel)",
   "language": "python",
   "name": "python3"
  },
  "language_info": {
   "codemirror_mode": {
    "name": "ipython",
    "version": 3
   },
   "file_extension": ".py",
   "mimetype": "text/x-python",
   "name": "python",
   "nbconvert_exporter": "python",
   "pygments_lexer": "ipython3",
   "version": "3.9.13"
  }
 },
 "nbformat": 4,
 "nbformat_minor": 5
}
